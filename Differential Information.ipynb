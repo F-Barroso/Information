{
 "cells": [
  {
   "cell_type": "code",
   "execution_count": 1,
   "id": "absolute-california",
   "metadata": {},
   "outputs": [],
   "source": [
    "import numpy as np\n",
    "rd = np.random\n",
    "import matplotlib.pyplot as pl\n",
    "\n",
    "from scipy.stats import iqr\n",
    "\n",
    "import timeit"
   ]
  },
  {
   "cell_type": "markdown",
   "id": "reliable-reggae",
   "metadata": {},
   "source": [
    "# Differential Entropy"
   ]
  },
  {
   "cell_type": "markdown",
   "id": "biological-priest",
   "metadata": {
    "tags": []
   },
   "source": [
    "## 1 dimension"
   ]
  },
  {
   "cell_type": "code",
   "execution_count": 2,
   "id": "planned-shield",
   "metadata": {},
   "outputs": [],
   "source": [
    "def diff_entropy(data):\n",
    "    '''Computes differential entropy from one dimensional data array'''\n",
    "    \n",
    "    #bin width estimated from Freedman-Diaconis rule\n",
    "    dx = 2*iqr(data)/(len(data)**(1/3))\n",
    "    counts,bins=np.histogram(data,bins=int(np.round((max(data)-min(data))/dx)))\n",
    "    dx = bins[1]-bins[0] #redefine bin width\n",
    "    \n",
    "    pdf = counts/np.sum(counts*dx)\n",
    "    return -np.sum(pdf[pdf!=0]*np.log(pdf[pdf!=0]))*dx"
   ]
  },
  {
   "cell_type": "code",
   "execution_count": 13,
   "id": "noble-verification",
   "metadata": {},
   "outputs": [
    {
     "data": {
      "image/png": "[encoded data removed]",
      "text/plain": [
       "<Figure size 432x288 with 1 Axes>"
      ]
     },
     "metadata": {
      "needs_background": "light"
     },
     "output_type": "display_data"
    },
    {
     "name": "stdout",
     "output_type": "stream",
     "text": [
      "Entropy:\n",
      "Numerical: -1.6097548432168662\n",
      "Theoretical: -1.6094379124341003\n",
      "Error: 0.00019692016716981196\n"
     ]
    }
   ],
   "source": [
    "#number of events\n",
    "n=100000\n",
    "\n",
    "#parameters of the uniform distribution\n",
    "x1=0\n",
    "x2=0.2\n",
    "\n",
    "U = rd.random(n)*(x2-x1)+x1\n",
    "\n",
    "#Plot a histogram\n",
    "counts,bins=np.histogram(U,bins=30)\n",
    "dx = bins[1]-bins[0]\n",
    "pl.plot(bins[:-1]+dx/2,counts/(np.sum(counts*dx)))\n",
    "pl.xlim(x1,x2)\n",
    "pl.ylim(0, 1/x2 * 1.5)\n",
    "pl.xlabel(\"$x$\")\n",
    "pl.xlabel(\"$U(x)$\")\n",
    "pl.title(\"$U(x)$\")\n",
    "pl.show()\n",
    "\n",
    "#Compute the entropy\n",
    "print('Entropy:')\n",
    "print('Numerical:',diff_entropy(U))\n",
    "print('Theoretical:',np.log(x2-x1))\n",
    "\n",
    "print('Error:',(diff_entropy(U)-np.log(x2-x1))/np.log(x2-x1))\n",
    "del U"
   ]
  },
  {
   "cell_type": "markdown",
   "id": "answering-treat",
   "metadata": {},
   "source": [
    "## d dimensions"
   ]
  },
  {
   "cell_type": "code",
   "execution_count": 4,
   "id": "figured-socket",
   "metadata": {},
   "outputs": [],
   "source": [
    "def diff_entropydd(data):\n",
    "    '''Computes differential entropy from d-dimensional data array, with d greater than 1'''\n",
    "    \n",
    "    #bin widths estimated from Freedman-Diaconis rule  \n",
    "    dx = 2*iqr(data,axis=1)/(len(data[0])**(1/3))\n",
    "    counts,bins=np.histogramdd(data.T, bins=np.round((np.max(data,axis=1)-np.min(data,axis=1))/dx).astype(int))\n",
    "    dx = np.array([bins[i][1]-bins[i][0] for i in range(len(dx))])  #redefine bin widths\n",
    "    \n",
    "    pdf = counts/np.sum(counts*np.prod(dx))\n",
    "    return -np.sum(pdf[pdf!=0]*np.log(pdf[pdf!=0]))*np.prod(dx)"
   ]
  },
  {
   "cell_type": "markdown",
   "id": "1049f4ed-acec-4adb-8156-51e26c9757d5",
   "metadata": {},
   "source": [
    "### 2d"
   ]
  },
  {
   "cell_type": "code",
   "execution_count": 12,
   "id": "collaborative-allah",
   "metadata": {},
   "outputs": [
    {
     "name": "stdout",
     "output_type": "stream",
     "text": [
      "Entropy:\n",
      "Numerical: 4.600185532895303\n",
      "Theoretical: 4.605170185988092\n",
      "Error: -0.0010824036662001333\n"
     ]
    }
   ],
   "source": [
    "#number of events\n",
    "n=1000000\n",
    "\n",
    "#parameters of the uniform distributions\n",
    "x1=0\n",
    "x2=10\n",
    "y1=0\n",
    "y2=10\n",
    "\n",
    "U = (rd.random([n,2])*(np.array([x2,y2])-np.array([x1,y1])) + np.array([x1,y1])).T\n",
    "\n",
    "#Compute the entropy\n",
    "print('Entropy:')\n",
    "print('Numerical:',diff_entropydd(U))\n",
    "print('Theoretical:',np.log((x2-x1)*(y2-y1)))\n",
    "\n",
    "print('Error:',(diff_entropydd(U)-np.log((x2-x1)*(y2-y1)))/np.log((x2-x1)*(y2-y1)))\n",
    "del U"
   ]
  },
  {
   "cell_type": "markdown",
   "id": "00cfcfdc-574e-4a9c-9d09-b93a940afdd0",
   "metadata": {},
   "source": [
    "### 3d"
   ]
  },
  {
   "cell_type": "code",
   "execution_count": 11,
   "id": "complete-indonesia",
   "metadata": {},
   "outputs": [
    {
     "name": "stdout",
     "output_type": "stream",
     "text": [
      "Entropy:\n",
      "Numerical: 8.413662943618407\n",
      "Theoretical: 8.987196820661973\n",
      "Error: -0.06381677051124392\n"
     ]
    }
   ],
   "source": [
    "#number of events\n",
    "n=1000000\n",
    "\n",
    "#parameters of the uniform distributions\n",
    "x1=0\n",
    "x2=200\n",
    "y1=0\n",
    "y2=20\n",
    "z1=0\n",
    "z2=2\n",
    "\n",
    "U = (rd.random([n,3])*(np.array([x2,y2,z2])-np.array([x1,y1,z1])) + np.array([x1,y1,z1])).T\n",
    "\n",
    "print('Entropy:')\n",
    "print('Numerical:',diff_entropydd(U))\n",
    "print('Theoretical:',np.log((x2-x1)*(y2-y1)*(z2-z1)))\n",
    "\n",
    "print('Error:',(diff_entropydd(U)-np.log((x2-x1)*(y2-y1)*(z2-z1)))/np.log((x2-x1)*(y2-y1)*(z2-z1)))\n",
    "del U"
   ]
  },
  {
   "cell_type": "markdown",
   "id": "71ffaff5-b112-44b4-9260-d77aa0490fa0",
   "metadata": {},
   "source": [
    "## Tests with normal distributions"
   ]
  },
  {
   "cell_type": "code",
   "execution_count": 10,
   "id": "mental-marijuana",
   "metadata": {},
   "outputs": [
    {
     "data": {
      "image/png": "[encoded data removed]",
      "text/plain": [
       "<Figure size 432x288 with 1 Axes>"
      ]
     },
     "metadata": {
      "needs_background": "light"
     },
     "output_type": "display_data"
    },
    {
     "name": "stdout",
     "output_type": "stream",
     "text": [
      "Entropy:\n",
      "Numerical: 1.4185004852501106\n",
      "Theoretical: 1.4189385332046727\n",
      "Error: -0.0004380479545620375\n"
     ]
    }
   ],
   "source": [
    "#number of events\n",
    "n=1000000\n",
    "\n",
    "miu = 0\n",
    "sigma = 1/np.sqrt(2*np.pi*np.e)\n",
    "sigma = 1\n",
    "U = rd.normal(loc=miu, scale=sigma, size=n)\n",
    "\n",
    "counts,bins=np.histogram(U,bins=30)\n",
    "dx = bins[1]-bins[0]\n",
    "pl.plot(bins[:-1]+dx/2,counts/(np.sum(counts*dx)))\n",
    "pl.xlabel(\"$x$\")\n",
    "pl.xlabel(\"$G(x)$\")\n",
    "pl.title(\"$G(x)$\")\n",
    "pl.show()\n",
    "\n",
    "print('Entropy:')\n",
    "print('Numerical:',diff_entropy(U))\n",
    "theoretical = np.log(2*np.pi*sigma*sigma)/2 + 1/2\n",
    "print('Theoretical:',theoretical)\n",
    "\n",
    "print('Error:',(diff_entropy(U)-theoretical))\n",
    "del U"
   ]
  },
  {
   "cell_type": "code",
   "execution_count": 9,
   "id": "moved-conclusion",
   "metadata": {},
   "outputs": [
    {
     "name": "stdout",
     "output_type": "stream",
     "text": [
      "Entropy:\n",
      "Numerical: 2.806245151845085\n",
      "Theoretical: 2.8378770664093453\n",
      "Error: -0.03163191456426029\n"
     ]
    }
   ],
   "source": [
    "#number of events\n",
    "n=1000000\n",
    "\n",
    "miu = 0\n",
    "sigma = 1\n",
    "U = rd.normal(loc=miu, scale=sigma, size=(2,n))\n",
    "\n",
    "print('Entropy:')\n",
    "print('Numerical:',diff_entropydd(U))\n",
    "theoretical = np.log(2*np.pi*sigma*sigma) + 1\n",
    "print('Theoretical:',theoretical)\n",
    "\n",
    "print('Error:',(diff_entropydd(U)-theoretical))\n",
    "del U"
   ]
  },
  {
   "cell_type": "markdown",
   "id": "weekly-clark",
   "metadata": {},
   "source": [
    "# Mutual Information"
   ]
  },
  {
   "cell_type": "code",
   "execution_count": 16,
   "id": "above-november",
   "metadata": {},
   "outputs": [],
   "source": [
    "def MI(A,B):\n",
    "    '''Computes the differential mutual information between two 1-dimensional data arrays, A and B. - I(A,B).'''\n",
    "    \n",
    "    #bin widths estimated from Freedman-Diaconis rule  \n",
    "    dA = 2*iqr(A)/(len(A)**(1/3))\n",
    "    dB = 2*iqr(B)/(len(B)**(1/3))\n",
    "    \n",
    "    if dA==0 or dB==0: #integral of 0 size\n",
    "        return 0.\n",
    "\n",
    "    countA,binA=np.histogram(A, bins=np.round((np.max(A)-np.min(A))/dA).astype(int))\n",
    "    dA = binA[1] - binA[0] #redefine bin widths\n",
    "    pA = countA/np.sum(countA*dA)\n",
    "    \n",
    "    countB,binB=np.histogram(B, bins=np.round((np.max(B)-np.min(B))/dB).astype(int))\n",
    "    dB = binB[1] - binB[0] #redefine bin widths\n",
    "    pB = countB/np.sum(countB*dB)\n",
    "    \n",
    "    countAB=np.histogramdd([A,B], bins=[binA,binB])[0]\n",
    "    pAB = countAB/np.sum(countAB*dA*dB)\n",
    "    \n",
    "    nonzero = pAB!=0\n",
    "    return np.sum(pAB[nonzero]*np.log(pAB[nonzero]/np.tensordot(pA,pB,axes=0)[nonzero]))*dA*dB"
   ]
  },
  {
   "cell_type": "code",
   "execution_count": 20,
   "id": "d2831551-28d6-42e7-8d9f-9f1d6fbf491b",
   "metadata": {},
   "outputs": [],
   "source": [
    "def MI2(A,B):\n",
    "    '''Computes the differential mutual information between two 1-dimensional data arrays, A and B. - I(A,B).\n",
    "    Requires less memory for sparse distributions, but takes longer.'''\n",
    "    \n",
    "    #bin widths estimated from Freedman-Diaconis rule  \n",
    "    dA = 2*iqr(A)/(len(A)**(1/3))\n",
    "    dB = 2*iqr(B)/(len(B)**(1/3))\n",
    "    \n",
    "    if dA==0 or dB==0: #integral of 0 size\n",
    "        return 0.\n",
    "\n",
    "    countA,binA=np.histogram(A, bins=np.round((np.max(A)-np.min(A))/dA).astype(int))\n",
    "    posA, countA = np.where(countA!=0)[0], countA[countA!=0]\n",
    "    pA = countA/np.sum(countA*dA)\n",
    "    dA = binA[1] - binA[0] #redefine bin widths\n",
    "    \n",
    "    countB,binB=np.histogram(B, bins=np.round((np.max(B)-np.min(B))/dB).astype(int))\n",
    "    posB, countB = np.where(countB!=0)[0], countB[countB!=0]\n",
    "    pB = countB/np.sum(countB*dB)\n",
    "    dB = binB[1] - binB[0] #redefine bin widths\n",
    "\n",
    "    countAB=np.histogramdd([A,B], bins=[binA,binB])[0]\n",
    "    posAB, countAB = np.array(np.where(countAB!=0)).T, countAB[countAB!=0]\n",
    "    pAB = countAB/np.sum(countAB*dA*dB)\n",
    "    del countAB\n",
    "    \n",
    "    return np.sum(pAB*np.log([pAB[i]/(pA[posA==posAB[i][0]][0]*pB[posB==posAB[i][1]][0]) for i in range(len(posAB))]))*dA*dB"
   ]
  },
  {
   "cell_type": "code",
   "execution_count": 23,
   "id": "a00e1be7-59eb-4189-9cf6-8b3b28ecd759",
   "metadata": {},
   "outputs": [
    {
     "name": "stdout",
     "output_type": "stream",
     "text": [
      "Uniform MI: 0.004892334769071712\n",
      "208 ms ± 3.53 ms per loop (mean ± std. dev. of 7 runs, 1 loop each)\n",
      "Uniform MI2: 0.005756530613989038\n",
      "259 ms ± 1.17 ms per loop (mean ± std. dev. of 7 runs, 1 loop each)\n",
      "\n",
      "Normal MI:\t 0.03214559440352057\n",
      "241 ms ± 20.9 ms per loop (mean ± std. dev. of 7 runs, 1 loop each)\n",
      "Normal MI2:\t 0.030529069505338603\n",
      "488 ms ± 1.41 ms per loop (mean ± std. dev. of 7 runs, 1 loop each)\n"
     ]
    }
   ],
   "source": [
    "#number of events\n",
    "n=1000000\n",
    "\n",
    "#Uniform distribution\n",
    "A,B = rd.random((2,n))\n",
    "print('Uniform MI:',MI(A,B))\n",
    "%timeit MI(A,B)\n",
    "print('Uniform MI2:',MI2(A,B))\n",
    "%timeit MI2(A,B)\n",
    "\n",
    "print()\n",
    "#Normal distribution\n",
    "A,B = rd.normal(loc=miu, scale=sigma, size=(2,n))\n",
    "print('Normal MI:\\t',MI(A,B))\n",
    "%timeit MI(A,B)\n",
    "print('Normal MI2:\\t',MI2(A,B))\n",
    "%timeit MI2(A,B)"
   ]
  },
  {
   "cell_type": "markdown",
   "id": "811e9cb9-5c2a-4020-851c-5bf5439dfe2e",
   "metadata": {},
   "source": [
    "## Conditional Mutual Information"
   ]
  },
  {
   "cell_type": "code",
   "execution_count": 24,
   "id": "9e7ed6ee-710f-4fa6-b0df-c1779eb2e515",
   "metadata": {},
   "outputs": [],
   "source": [
    "def CMI(A,B,C):\n",
    "    '''Computes the differential conditional mutual information between arrays A, B conditioned to array C - I(A,B|C).'''\n",
    "    \n",
    "    #bin widths estimated from Freedman-Diaconis rule  \n",
    "    dA = 2*iqr(A)/(len(A)**(1/3))\n",
    "    dB = 2*iqr(B)/(len(B)**(1/3))\n",
    "    dC = 2*iqr(C)/(len(C)**(1/3))\n",
    "    \n",
    "    if dA==0 or dB==0 or dC==0: #integral of 0 size returns 0.\n",
    "        return 0.\n",
    "\n",
    "    #Histogram the distributions, record the positions that are nonzero and compute the pdf's\n",
    "    countC,binC=np.histogram(C, bins=np.round((np.max(C)-np.min(C))/dC).astype(int))\n",
    "    posC, countC = np.where(countC!=0)[0], countC[countC!=0]\n",
    "    pC = countC/np.sum(countC*dC)\n",
    "    dC = binC[1] - binC[0] #redefine bin width of C\n",
    "    \n",
    "    countAC,binAC = np.histogramdd([A,C], bins=[np.round((np.max(A)-np.min(A))/dA).astype(int),binC])\n",
    "    posAC, countAC = np.array(np.where(countAC!=0)).T, countAC[countAC!=0]\n",
    "    pAC = countAC/np.sum(countAC*dA*dC)\n",
    "    dA = binAC[0][1] - binAC[0][0] #redefine bin width of A\n",
    "    \n",
    "    countBC,binBC = np.histogramdd([B,C], bins=[np.round((np.max(B)-np.min(B))/dB).astype(int),binC])\n",
    "    posBC, countBC = np.array(np.where(countBC!=0)).T, countBC[countBC!=0]\n",
    "    pBC = countBC/np.sum(countBC*dB*dC)\n",
    "    dB = binBC[0][1] - binBC[0][0] #redefine bin width of B\n",
    "        \n",
    "    countABC=np.histogramdd([A,B,C], bins=[binAC[0],binBC[0],binC])[0]\n",
    "    posABC, countABC = np.array(np.where(countABC!=0)).T, countABC[countABC!=0]\n",
    "    pABC = countABC/np.sum(countABC*dA*dB*dC)\n",
    "    \n",
    "    return np.sum(pABC*np.log([pABC[i]\n",
    "                               *pC[posC==posABC[i][2]][0]\n",
    "                               /(pAC[np.all(posAC==posABC[i][[0,2]],axis=1)][0]\n",
    "                                 *pBC[np.all(posBC==posABC[i][[1,2]],axis=1)][0]) for i in range(len(posABC))]))*dA*dB*dC"
   ]
  },
  {
   "cell_type": "code",
   "execution_count": 25,
   "id": "62382095-36f6-4404-8f9f-c8b602b46802",
   "metadata": {},
   "outputs": [
    {
     "name": "stdout",
     "output_type": "stream",
     "text": [
      "Uniform: 0.5632558771794667\n",
      "Normal:\t 1.4186922852737736\n"
     ]
    }
   ],
   "source": [
    "#number of events\n",
    "n=100000\n",
    "\n",
    "#Uniform distribution\n",
    "A,B,C = rd.random((3,n))\n",
    "print('Uniform:',CMI(A,B,C))\n",
    "#%timeit CMI(A,B,C) #takes a few minutes to evaluatate\n",
    "\n",
    "#Normal distribution\n",
    "A,B,C = rd.normal(loc=miu, scale=sigma, size=(3,n))\n",
    "print('Normal:\\t',CMI(A,B,C))\n",
    "#%timeit CMI(A,B,C) #takes a few minutes to evaluatate"
   ]
  },
  {
   "cell_type": "code",
   "execution_count": null,
   "id": "44cb4a6a-d67e-44d6-b054-12ae2f403270",
   "metadata": {},
   "outputs": [],
   "source": []
  }
 ],
 "metadata": {
  "kernelspec": {
   "display_name": "Python 3",
   "language": "python",
   "name": "python3"
  },
  "language_info": {
   "codemirror_mode": {
    "name": "ipython",
    "version": 3
   },
   "file_extension": ".py",
   "mimetype": "text/x-python",
   "name": "python",
   "nbconvert_exporter": "python",
   "pygments_lexer": "ipython3",
   "version": "3.9.7"
  }
 },
 "nbformat": 4,
 "nbformat_minor": 5
}
